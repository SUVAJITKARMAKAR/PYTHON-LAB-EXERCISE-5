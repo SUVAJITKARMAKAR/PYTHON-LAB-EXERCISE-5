{
 "cells": [
  {
   "cell_type": "markdown",
   "metadata": {},
   "source": [
    "# LAB - EXERCISE - 5\n"
   ]
  },
  {
   "cell_type": "markdown",
   "metadata": {},
   "source": [
    "## Exception on ZeroDivisionError"
   ]
  },
  {
   "cell_type": "code",
   "execution_count": 4,
   "metadata": {},
   "outputs": [
    {
     "name": "stdout",
     "output_type": "stream",
     "text": [
      "ERROR : DIVISION BY ZERO IS NOT ALLOWED.\n"
     ]
    }
   ],
   "source": [
    "def _divide_(a, b):\n",
    "    try:\n",
    "        result = a / b\n",
    "        return result\n",
    "    except ZeroDivisionError:\n",
    "        print(\"ERROR : DIVISION BY ZERO IS NOT ALLOWED.\")\n",
    "        return None\n",
    "\n",
    "# Taking input from the user \n",
    "numerator = float(input(\"ENTER THE NUMERATOR :  \"))\n",
    "denominator = float(input(\"ENTER THE DENOMINATOR : \"))\n",
    "\n",
    "# Fucntion call for division\n",
    "result = _divide_(numerator, denominator)\n",
    "\n",
    "# Output\n",
    "if result is not None:\n",
    "    print(\"RESULT :\", result)\n"
   ]
  },
  {
   "cell_type": "markdown",
   "metadata": {},
   "source": [
    "## Handling of exception IndexError\n"
   ]
  },
  {
   "cell_type": "code",
   "execution_count": 3,
   "metadata": {},
   "outputs": [
    {
     "name": "stdout",
     "output_type": "stream",
     "text": [
      "ERROR :  list index out of range\n",
      "ATTEMPTED TO ACCESS THE INDEX : 9\n",
      "PROGRAM EXECUTION COMPLETED.\n"
     ]
    }
   ],
   "source": [
    "def access_element(lst, index):\n",
    "    try:\n",
    "        element = lst[index]\n",
    "        return element\n",
    "    except IndexError as e:\n",
    "        print(\"ERROR : \", e)\n",
    "        return None\n",
    "    finally:\n",
    "        print(\"ATTEMPTED TO ACCESS THE INDEX :\", index)\n",
    "\n",
    "# Sample list\n",
    "my_list = [10, 20, 30, 40, 50]\n",
    "\n",
    "# Input from the user\n",
    "try:\n",
    "    index = int(input(\"ENTER THE INDEX TO ACCESS :  \"))\n",
    "    result = access_element(my_list, index)\n",
    "    if result is not None:\n",
    "        print(\"ELEMENT AT INDEX : \", index, \":\", result)\n",
    "except ValueError:\n",
    "    print(\"PLEASE ENTER A VALID INPUT .\")\n",
    "except Exception as e:\n",
    "    print(\"AN ERROR OCCURED :\", e)\n",
    "    raise e\n",
    "finally:\n",
    "    print(\"PROGRAM EXECUTION COMPLETED.\")\n",
    "\n"
   ]
  }
 ],
 "metadata": {
  "kernelspec": {
   "display_name": "Python 3",
   "language": "python",
   "name": "python3"
  },
  "language_info": {
   "codemirror_mode": {
    "name": "ipython",
    "version": 3
   },
   "file_extension": ".py",
   "mimetype": "text/x-python",
   "name": "python",
   "nbconvert_exporter": "python",
   "pygments_lexer": "ipython3",
   "version": "3.10.12"
  },
  "orig_nbformat": 4
 },
 "nbformat": 4,
 "nbformat_minor": 2
}
